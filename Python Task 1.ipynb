{
 "cells": [
  {
   "cell_type": "code",
   "execution_count": 6,
   "id": "f3c93ef9-8d05-4562-b349-75f1de782f9e",
   "metadata": {},
   "outputs": [],
   "source": [
    "#Q1. Create a function which will take a list as an argument and return the product of all the numbers after creating a flat list.\n",
    "#Use the below-given list as an argument for your function."
   ]
  },
  {
   "cell_type": "code",
   "execution_count": 4,
   "id": "1c6913ca-7ce9-4169-879b-7f4c0d8520e1",
   "metadata": {},
   "outputs": [],
   "source": [
    "list1 = [1,2,3,4, [44,55,66, True], False, (34,56,78,89,34), {1,2,3,3,2,1}, {1:34, \"key2\": [55, 67, 78, 89], 4: (45, \n",
    "22, 61, 34)}, [56, 'data science'], 'Machine Learning']"
   ]
  },
  {
   "cell_type": "code",
   "execution_count": 5,
   "id": "33303118-2a9d-4bf3-8ae9-c455cee400da",
   "metadata": {},
   "outputs": [
    {
     "name": "stdout",
     "output_type": "stream",
     "text": [
      "689118639831180913138973540352000\n"
     ]
    }
   ],
   "source": [
    "def flatten_and_multiply(lst):\n",
    "    flat_list = []\n",
    "    def flatten(lst):\n",
    "        for item in lst:\n",
    "            if isinstance(item, (int, float)):\n",
    "                flat_list.append(item)\n",
    "            elif isinstance(item, (list, tuple)):\n",
    "                flatten(item)\n",
    "            elif isinstance(item, dict):\n",
    "                for key, value in item.items():\n",
    "                    if isinstance(key, (int, float)):\n",
    "                        flat_list.append(key)\n",
    "                    if isinstance(value, (int, float)):\n",
    "                        flat_list.append(value)\n",
    "                    if isinstance(value, (list, tuple)):\n",
    "                        flatten(value)\n",
    "    flatten(lst)\n",
    "    # print(flat_list)\n",
    "    result = 1\n",
    "    for item in flat_list:\n",
    "        if type(item)==int:\n",
    "            result *= item\n",
    "    return result\n",
    "\n",
    "list1 = [1,2,3,4, [44,55,66, True], False, (34,56,78,89,34), {1,2,3,3,2,1}, {1:34, \"key2\": [55, 67, 78, 89], 4: (45, 22, 61, 34)}, [56, 'data science'], 'Machine Learning']\n",
    "print(flatten_and_multiply(list1))"
   ]
  },
  {
   "cell_type": "code",
   "execution_count": 7,
   "id": "b290c8c8-d34d-4ab1-901d-ecd90c1cccd1",
   "metadata": {},
   "outputs": [],
   "source": [
    "#Q2. Write a python program for encrypting a message sent to you by your friend. The logic of encryption should be such that, for a the output should be z. For b, the output should be y. For c, the output should be x respectively. Also, the whitespace should be replaced with a dollar sign. Keep the punctuation marks unchanged.\n",
    "#Input Sentence: I want to become a Data Scientist.\n",
    "#Encrypt the above input sentence using the program you just created"
   ]
  },
  {
   "cell_type": "code",
   "execution_count": 8,
   "id": "0921a9e1-d1f4-4446-b0a8-3dcd704426bb",
   "metadata": {},
   "outputs": [
    {
     "name": "stdout",
     "output_type": "stream",
     "text": [
      "Original String I want to become a Data Scientist.\n",
      "Encrypted Message is  r@dzmg@gl@yvxlnv@z@wzgz@hxrvmgrhg.\n"
     ]
    }
   ],
   "source": [
    "strings = \"I want to become a Data Scientist.\"\n",
    "print(\"Original String\",strings)\n",
    "string1 = strings.lower()\n",
    "import string\n",
    "alphabets = list(string.ascii_lowercase)\n",
    "count = 0\n",
    "length = len(alphabets)\n",
    "enc = []\n",
    "for i in string1:\n",
    "    if i == \" \":\n",
    "        enc.append(\"@\")\n",
    "    elif i.isalpha()== True:\n",
    "        for j in range(0,26):\n",
    "            if i == alphabets[j]:\n",
    "                enc.append(alphabets[length - j-1])\n",
    "            else:\n",
    "                continue\n",
    "    else :\n",
    "        enc.append(i)\n",
    "print(\"Encrypted Message is \", \"\".join(enc))"
   ]
  },
  {
   "cell_type": "code",
   "execution_count": null,
   "id": "0666b944-6d1f-4ed1-a99a-50d1a5e0c33d",
   "metadata": {},
   "outputs": [],
   "source": []
  }
 ],
 "metadata": {
  "kernelspec": {
   "display_name": "Python 3 (ipykernel)",
   "language": "python",
   "name": "python3"
  },
  "language_info": {
   "codemirror_mode": {
    "name": "ipython",
    "version": 3
   },
   "file_extension": ".py",
   "mimetype": "text/x-python",
   "name": "python",
   "nbconvert_exporter": "python",
   "pygments_lexer": "ipython3",
   "version": "3.10.8"
  }
 },
 "nbformat": 4,
 "nbformat_minor": 5
}
